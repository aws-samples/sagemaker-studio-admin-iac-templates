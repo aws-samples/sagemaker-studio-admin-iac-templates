{
 "cells": [
  {
   "cell_type": "markdown",
   "metadata": {},
   "source": [
    "## Testing MLOps engineer permissions\n",
    "\n",
    "### Positive test cases:\n",
    "1. Should be able to deploy a model to SageMake endpoint.\n",
    "2. Should be able to setup a model monitor job.\n",
    "3. Should be able to create, read, update and delete model package from model registry.\n",
    "4. Should be able to deploy a sagemaker project.\n",
    "\n",
    "### Negative test cases:\n",
    "1. Should NOT be able to spin up a training job.\n",
    "2. Should NOT be able to spin up a processing job.\n"
   ]
  },
  {
   "cell_type": "markdown",
   "metadata": {},
   "source": [
    "## Let us execute the positive test cases:\n",
    "\n",
    "### Positive case 1: Should be able to deploy a model to SageMake endpoint."
   ]
  },
  {
   "cell_type": "code",
   "execution_count": 6,
   "metadata": {},
   "outputs": [
    {
     "name": "stdout",
     "output_type": "stream",
     "text": [
      "Role ARN: arn:aws:iam::154856345127:role/service-role/AmazonSageMaker-ExecutionRole-20240606T095722\n",
      "EndpointName=xgb-churn-pred-2024-06-18-13-10-18\n"
     ]
    },
    {
     "ename": "NameError",
     "evalue": "name 's3_capture_upload_path' is not defined",
     "output_type": "error",
     "traceback": [
      "\u001b[0;31m---------------------------------------------------------------------------\u001b[0m",
      "\u001b[0;31mNameError\u001b[0m                                 Traceback (most recent call last)",
      "\u001b[1;32m/home/sagemaker-user/sagemaker-studio-admin-iac-templates/workshop-user-journeys/lab_4_mlops_engineer/test/test_mlops_engineer_permissions.ipynb Cell 3\u001b[0m line \u001b[0;36m4\n\u001b[1;32m     <a href='vscode-notebook-cell://5hkbmrkajbp2ecs.studio.us-east-1.sagemaker.aws/home/sagemaker-user/sagemaker-studio-admin-iac-templates/workshop-user-journeys/lab_4_mlops_engineer/test/test_mlops_engineer_permissions.ipynb#W2sdnNjb2RlLXJlbW90ZQ%3D%3D?line=37'>38</a>\u001b[0m endpoint_name \u001b[39m=\u001b[39m \u001b[39m\"\u001b[39m\u001b[39mxgb-churn-pred-\u001b[39m\u001b[39m\"\u001b[39m \u001b[39m+\u001b[39m strftime(\u001b[39m\"\u001b[39m\u001b[39m%\u001b[39m\u001b[39mY-\u001b[39m\u001b[39m%\u001b[39m\u001b[39mm-\u001b[39m\u001b[39m%d\u001b[39;00m\u001b[39m-\u001b[39m\u001b[39m%\u001b[39m\u001b[39mH-\u001b[39m\u001b[39m%\u001b[39m\u001b[39mM-\u001b[39m\u001b[39m%\u001b[39m\u001b[39mS\u001b[39m\u001b[39m\"\u001b[39m, gmtime())\n\u001b[1;32m     <a href='vscode-notebook-cell://5hkbmrkajbp2ecs.studio.us-east-1.sagemaker.aws/home/sagemaker-user/sagemaker-studio-admin-iac-templates/workshop-user-journeys/lab_4_mlops_engineer/test/test_mlops_engineer_permissions.ipynb#W2sdnNjb2RlLXJlbW90ZQ%3D%3D?line=38'>39</a>\u001b[0m \u001b[39mprint\u001b[39m(\u001b[39m\"\u001b[39m\u001b[39mEndpointName=\u001b[39m\u001b[39m{}\u001b[39;00m\u001b[39m\"\u001b[39m\u001b[39m.\u001b[39mformat(endpoint_name))\n\u001b[1;32m     <a href='vscode-notebook-cell://5hkbmrkajbp2ecs.studio.us-east-1.sagemaker.aws/home/sagemaker-user/sagemaker-studio-admin-iac-templates/workshop-user-journeys/lab_4_mlops_engineer/test/test_mlops_engineer_permissions.ipynb#W2sdnNjb2RlLXJlbW90ZQ%3D%3D?line=41'>42</a>\u001b[0m data_capture_config \u001b[39m=\u001b[39m DataCaptureConfig(\n\u001b[0;32m---> <a href='vscode-notebook-cell://5hkbmrkajbp2ecs.studio.us-east-1.sagemaker.aws/home/sagemaker-user/sagemaker-studio-admin-iac-templates/workshop-user-journeys/lab_4_mlops_engineer/test/test_mlops_engineer_permissions.ipynb#W2sdnNjb2RlLXJlbW90ZQ%3D%3D?line=42'>43</a>\u001b[0m     enable_capture\u001b[39m=\u001b[39m\u001b[39mTrue\u001b[39;00m, sampling_percentage\u001b[39m=\u001b[39m\u001b[39m100\u001b[39m, destination_s3_uri\u001b[39m=\u001b[39ms3_capture_upload_path\n\u001b[1;32m     <a href='vscode-notebook-cell://5hkbmrkajbp2ecs.studio.us-east-1.sagemaker.aws/home/sagemaker-user/sagemaker-studio-admin-iac-templates/workshop-user-journeys/lab_4_mlops_engineer/test/test_mlops_engineer_permissions.ipynb#W2sdnNjb2RlLXJlbW90ZQ%3D%3D?line=43'>44</a>\u001b[0m )\n\u001b[1;32m     <a href='vscode-notebook-cell://5hkbmrkajbp2ecs.studio.us-east-1.sagemaker.aws/home/sagemaker-user/sagemaker-studio-admin-iac-templates/workshop-user-journeys/lab_4_mlops_engineer/test/test_mlops_engineer_permissions.ipynb#W2sdnNjb2RlLXJlbW90ZQ%3D%3D?line=45'>46</a>\u001b[0m predictor \u001b[39m=\u001b[39m model\u001b[39m.\u001b[39mdeploy(\n\u001b[1;32m     <a href='vscode-notebook-cell://5hkbmrkajbp2ecs.studio.us-east-1.sagemaker.aws/home/sagemaker-user/sagemaker-studio-admin-iac-templates/workshop-user-journeys/lab_4_mlops_engineer/test/test_mlops_engineer_permissions.ipynb#W2sdnNjb2RlLXJlbW90ZQ%3D%3D?line=46'>47</a>\u001b[0m     initial_instance_count\u001b[39m=\u001b[39m\u001b[39m1\u001b[39m,\n\u001b[1;32m     <a href='vscode-notebook-cell://5hkbmrkajbp2ecs.studio.us-east-1.sagemaker.aws/home/sagemaker-user/sagemaker-studio-admin-iac-templates/workshop-user-journeys/lab_4_mlops_engineer/test/test_mlops_engineer_permissions.ipynb#W2sdnNjb2RlLXJlbW90ZQ%3D%3D?line=47'>48</a>\u001b[0m     instance_type\u001b[39m=\u001b[39m\u001b[39m\"\u001b[39m\u001b[39mml.m4.xlarge\u001b[39m\u001b[39m\"\u001b[39m,\n\u001b[1;32m     <a href='vscode-notebook-cell://5hkbmrkajbp2ecs.studio.us-east-1.sagemaker.aws/home/sagemaker-user/sagemaker-studio-admin-iac-templates/workshop-user-journeys/lab_4_mlops_engineer/test/test_mlops_engineer_permissions.ipynb#W2sdnNjb2RlLXJlbW90ZQ%3D%3D?line=48'>49</a>\u001b[0m     endpoint_name\u001b[39m=\u001b[39mendpoint_name,\n\u001b[1;32m     <a href='vscode-notebook-cell://5hkbmrkajbp2ecs.studio.us-east-1.sagemaker.aws/home/sagemaker-user/sagemaker-studio-admin-iac-templates/workshop-user-journeys/lab_4_mlops_engineer/test/test_mlops_engineer_permissions.ipynb#W2sdnNjb2RlLXJlbW90ZQ%3D%3D?line=49'>50</a>\u001b[0m     data_capture_config\u001b[39m=\u001b[39mdata_capture_config,\n\u001b[1;32m     <a href='vscode-notebook-cell://5hkbmrkajbp2ecs.studio.us-east-1.sagemaker.aws/home/sagemaker-user/sagemaker-studio-admin-iac-templates/workshop-user-journeys/lab_4_mlops_engineer/test/test_mlops_engineer_permissions.ipynb#W2sdnNjb2RlLXJlbW90ZQ%3D%3D?line=50'>51</a>\u001b[0m )\n",
      "\u001b[0;31mNameError\u001b[0m: name 's3_capture_upload_path' is not defined"
     ]
    }
   ],
   "source": [
    "import os\n",
    "import boto3\n",
    "import re\n",
    "import json\n",
    "import sagemaker\n",
    "from sagemaker import get_execution_role, session\n",
    "from time import gmtime, strftime\n",
    "from sagemaker.model import Model\n",
    "from sagemaker.image_uris import retrieve\n",
    "from sagemaker.model_monitor import DataCaptureConfig\n",
    "\n",
    "sm_session = sagemaker.Session()\n",
    "region = sm_session.boto_region_name\n",
    "\n",
    "role = get_execution_role()\n",
    "print(\"Role ARN: {}\".format(role))\n",
    "\n",
    "bucket = sm_session.default_bucket()\n",
    "prefix = \"lab-4/test/model\"\n",
    "\n",
    "\n",
    "model_file = open(\"model/xgb-churn-prediction-model.tar.gz\", \"rb\")\n",
    "s3_key = os.path.join(prefix, \"xgb-churn-prediction-model.tar.gz\")\n",
    "boto3.Session().resource(\"s3\").Bucket(bucket).Object(s3_key).upload_fileobj(model_file)\n",
    "\n",
    "\n",
    "\n",
    "model_name = \"DEMO-xgb-churn-pred-model-monitor-\" + strftime(\"%Y-%m-%d-%H-%M-%S\", gmtime())\n",
    "model_url = \"https://{}.s3-{}.amazonaws.com/{}/xgb-churn-prediction-model.tar.gz\".format(\n",
    "    bucket, region, prefix\n",
    ")\n",
    "\n",
    "image_uri = retrieve(\"xgboost\", region, \"0.90-1\")\n",
    "\n",
    "model = Model(image_uri=image_uri, model_data=model_url, role=role)\n",
    "\n",
    "\n",
    "endpoint_name = \"xgb-churn-pred-\" + strftime(\"%Y-%m-%d-%H-%M-%S\", gmtime())\n",
    "print(\"EndpointName={}\".format(endpoint_name))\n",
    "\n",
    "\n",
    "data_capture_config = DataCaptureConfig(\n",
    "    enable_capture=True, sampling_percentage=100, destination_s3_uri=s3_capture_upload_path\n",
    ")\n",
    "\n",
    "predictor = model.deploy(\n",
    "    initial_instance_count=1,\n",
    "    instance_type=\"ml.m4.xlarge\",\n",
    "    endpoint_name=endpoint_name,\n",
    "    data_capture_config=data_capture_config,\n",
    ")"
   ]
  },
  {
   "cell_type": "markdown",
   "metadata": {},
   "source": [
    "### Positive case 2: Should be able able to setup a model monitor job."
   ]
  },
  {
   "cell_type": "code",
   "execution_count": null,
   "metadata": {},
   "outputs": [],
   "source": [
    "# copy over the training dataset to Amazon S3 (if you already have it in Amazon S3, you could reuse it)\n",
    "baseline_prefix = prefix + \"model-monitor/baselining\"\n",
    "baseline_data_prefix = baseline_prefix + \"/data\"\n",
    "baseline_results_prefix = baseline_prefix + \"/results\"\n",
    "\n",
    "baseline_data_uri = \"s3://{}/{}\".format(bucket, baseline_data_prefix)\n",
    "baseline_results_uri = \"s3://{}/{}\".format(bucket, baseline_results_prefix)\n",
    "print(\"Baseline data uri: {}\".format(baseline_data_uri))\n",
    "print(\"Baseline results uri: {}\".format(baseline_results_uri))\n",
    "\n",
    "training_data_file = open(\"model_monitoring/test_data/training-dataset-with-header.csv\", \"rb\")\n",
    "s3_key = os.path.join(baseline_prefix, \"data\", \"training-dataset-with-header.csv\")\n",
    "boto3.Session().resource(\"s3\").Bucket(bucket).Object(s3_key).upload_fileobj(training_data_file)"
   ]
  },
  {
   "cell_type": "code",
   "execution_count": null,
   "metadata": {},
   "outputs": [],
   "source": [
    "from sagemaker.model_monitor import DefaultModelMonitor\n",
    "from sagemaker.model_monitor.dataset_format import DatasetFormat\n",
    "\n",
    "my_default_monitor = DefaultModelMonitor(\n",
    "    role=role,\n",
    "    instance_count=1,\n",
    "    instance_type=\"ml.m5.xlarge\",\n",
    "    volume_size_in_gb=20,\n",
    "    max_runtime_in_seconds=3600,\n",
    ")\n",
    "\n",
    "my_default_monitor.suggest_baseline(\n",
    "    baseline_dataset=baseline_data_uri + \"/training-dataset-with-header.csv\",\n",
    "    dataset_format=DatasetFormat.csv(header=True),\n",
    "    output_s3_uri=baseline_results_uri,\n",
    "    wait=True,\n",
    ")\n",
    "\n",
    "from sagemaker.model_monitor import CronExpressionGenerator\n",
    "\n",
    "mon_schedule_name = \"DEMO-xgb-churn-pred-model-monitor-schedule-\" + strftime(\n",
    "    \"%Y-%m-%d-%H-%M-%S\", gmtime()\n",
    ")\n",
    "my_default_monitor.create_monitoring_schedule(\n",
    "    monitor_schedule_name=mon_schedule_name,\n",
    "    endpoint_input=predictor.endpoint,\n",
    "    output_s3_uri=s3_report_path,\n",
    "    statistics=my_default_monitor.baseline_statistics(),\n",
    "    constraints=my_default_monitor.suggested_constraints(),\n",
    "    schedule_cron_expression=CronExpressionGenerator.hourly(),\n",
    "    enable_cloudwatch_metrics=True,\n",
    ")"
   ]
  }
 ],
 "metadata": {
  "kernelspec": {
   "display_name": "base",
   "language": "python",
   "name": "python3"
  },
  "language_info": {
   "codemirror_mode": {
    "name": "ipython",
    "version": 3
   },
   "file_extension": ".py",
   "mimetype": "text/x-python",
   "name": "python",
   "nbconvert_exporter": "python",
   "pygments_lexer": "ipython3",
   "version": "3.10.14"
  }
 },
 "nbformat": 4,
 "nbformat_minor": 2
}
